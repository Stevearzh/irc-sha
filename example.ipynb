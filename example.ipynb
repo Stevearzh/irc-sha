{
 "cells": [
  {
   "cell_type": "code",
   "execution_count": 1,
   "metadata": {
    "collapsed": true
   },
   "outputs": [],
   "source": [
    "from isha.core.table import table\n",
    "from isha.model.event import game_start"
   ]
  },
  {
   "cell_type": "code",
   "execution_count": 2,
   "metadata": {
    "collapsed": true
   },
   "outputs": [],
   "source": [
    "PATH = './package/card/'\n",
    "\n",
    "n = ['a', 'b', 'c', 'd', 'e', 'f', 'g', 'h']\n",
    "t = table(PATH, n)\n",
    "p = t.players()[len(n) - 1]\n",
    "\n",
    "game_start(t)"
   ]
  },
  {
   "cell_type": "code",
   "execution_count": 3,
   "metadata": {},
   "outputs": [
    {
     "name": "stdout",
     "output_type": "stream",
     "text": [
      "Rest cards: 21, Used cards: 0\n",
      "\n",
      "Nick: g, HP: 5, Max HP: 5, ID: 主公, Alive: Yes\n",
      "Nick: f, HP: 4, Max HP: 4, ID: 未知, Alive: Yes\n",
      "Nick: b, HP: 4, Max HP: 4, ID: 未知, Alive: Yes\n",
      "Nick: c, HP: 4, Max HP: 4, ID: 未知, Alive: Yes\n",
      "Nick: e, HP: 4, Max HP: 4, ID: 未知, Alive: Yes\n",
      "Nick: a, HP: 4, Max HP: 4, ID: 未知, Alive: Yes\n",
      "Nick: d, HP: 4, Max HP: 4, ID: 未知, Alive: Yes\n",
      "Nick: h, HP: 4, Max HP: 4, ID: 未知, Alive: Yes\n"
     ]
    }
   ],
   "source": [
    "print(t.show())"
   ]
  },
  {
   "cell_type": "code",
   "execution_count": 4,
   "metadata": {},
   "outputs": [
    {
     "name": "stdout",
     "output_type": "stream",
     "text": [
      "Distance between a and b is: 3\n"
     ]
    }
   ],
   "source": [
    "print('Distance between a and b is: ' + str(t.distance('a', 'b')))"
   ]
  },
  {
   "cell_type": "code",
   "execution_count": 5,
   "metadata": {},
   "outputs": [
    {
     "name": "stdout",
     "output_type": "stream",
     "text": [
      "Last player has cards: ♣9杀, ♦6闪, ♣8杀, ♣J杀 on his hand.\n"
     ]
    }
   ],
   "source": [
    "print('Last player has cards: ' + ', '.join(list(map(lambda card: card.suit() + card.point() + card.name(), p.card()))) + ' on his hand.')"
   ]
  },
  {
   "cell_type": "code",
   "execution_count": null,
   "metadata": {
    "collapsed": true
   },
   "outputs": [],
   "source": []
  }
 ],
 "metadata": {
  "kernelspec": {
   "display_name": "Python 3",
   "language": "python",
   "name": "python3"
  },
  "language_info": {
   "codemirror_mode": {
    "name": "ipython",
    "version": 3
   },
   "file_extension": ".py",
   "mimetype": "text/x-python",
   "name": "python",
   "nbconvert_exporter": "python",
   "pygments_lexer": "ipython3",
   "version": "3.6.1"
  }
 },
 "nbformat": 4,
 "nbformat_minor": 2
}
