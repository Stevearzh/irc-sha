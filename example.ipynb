{
 "cells": [
  {
   "cell_type": "code",
   "execution_count": 1,
   "metadata": {
    "collapsed": true
   },
   "outputs": [],
   "source": [
    "from isha.core.table import table\n",
    "from isha.model.event import game_start"
   ]
  },
  {
   "cell_type": "code",
   "execution_count": 2,
   "metadata": {
    "collapsed": true
   },
   "outputs": [],
   "source": [
    "PATH = './package/card/'\n",
    "\n",
    "n = ['a', 'b', 'c', 'd', 'e', 'f', 'g', 'h']\n",
    "t = table(PATH, n)\n",
    "p = t.players()[len(n) - 1]\n",
    "\n",
    "game_start(t)"
   ]
  },
  {
   "cell_type": "code",
   "execution_count": 3,
   "metadata": {},
   "outputs": [
    {
     "name": "stdout",
     "output_type": "stream",
     "text": [
      "Rest cards: 21, Used cards: 0\n",
      "\n",
      "Nick: d, HP: 5, Max HP: 5, ID: 主公, State: 正常, 4 Cards In Hand\n",
      "Nick: h, HP: 4, Max HP: 4, ID: 未知, State: 正常, 4 Cards In Hand\n",
      "Nick: f, HP: 4, Max HP: 4, ID: 未知, State: 正常, 4 Cards In Hand\n",
      "Nick: e, HP: 4, Max HP: 4, ID: 未知, State: 正常, 4 Cards In Hand\n",
      "Nick: c, HP: 4, Max HP: 4, ID: 未知, State: 正常, 4 Cards In Hand\n",
      "Nick: a, HP: 4, Max HP: 4, ID: 未知, State: 正常, 4 Cards In Hand\n",
      "Nick: b, HP: 4, Max HP: 4, ID: 未知, State: 正常, 4 Cards In Hand\n",
      "Nick: g, HP: 4, Max HP: 4, ID: 未知, State: 正常, 4 Cards In Hand\n"
     ]
    }
   ],
   "source": [
    "print(t.show())"
   ]
  },
  {
   "cell_type": "code",
   "execution_count": 4,
   "metadata": {},
   "outputs": [
    {
     "name": "stdout",
     "output_type": "stream",
     "text": [
      "Distance between a and b is: 1\n"
     ]
    }
   ],
   "source": [
    "print('Distance between a and b is: ' + str(t.distance('a', 'b')))"
   ]
  },
  {
   "cell_type": "code",
   "execution_count": 5,
   "metadata": {},
   "outputs": [
    {
     "name": "stdout",
     "output_type": "stream",
     "text": [
      "Last player has cards: ♥10杀, ♥6桃, ♣5杀, ♣9杀 on his hand.\n"
     ]
    }
   ],
   "source": [
    "print('Last player has cards: ' + ', '.join(list(map(lambda card: card.suit() + card.point() + card.name(), p.card()))) + ' on his hand.')"
   ]
  },
  {
   "cell_type": "code",
   "execution_count": 6,
   "metadata": {},
   "outputs": [
    {
     "name": "stdout",
     "output_type": "stream",
     "text": [
      "\n"
     ]
    }
   ],
   "source": [
    "print(t.show_desktop())"
   ]
  },
  {
   "cell_type": "code",
   "execution_count": 7,
   "metadata": {},
   "outputs": [
    {
     "name": "stdout",
     "output_type": "stream",
     "text": [
      "使用 <花色><点数><名字> 来选取你要出的牌，使用 S 来表示花色黑桃 ♠，使用 H 来表示花色红桃 ♥，使用 C 来表示花色梅花 ♣，使用 D 来表示花色方片 ♦，例如：DK杀、d6闪、S9杀、h10杀、dq桃\n"
     ]
    }
   ],
   "source": [
    "# explain how to assign a card\n",
    "from isha.core.card import explain_card_assign\n",
    "print(explain_card_assign())"
   ]
  },
  {
   "cell_type": "code",
   "execution_count": 8,
   "metadata": {},
   "outputs": [],
   "source": [
    "# last player use ♥10杀 to king player\n",
    "\n",
    "from isha.core.card import assign_card\n",
    "from isha.dict.event import EVENT\n",
    "\n",
    "t.judge(EVENT['card_used'], p.choose_card(assign_card('h10杀', p.card())), p.nick(), t.king_player().nick())"
   ]
  },
  {
   "cell_type": "code",
   "execution_count": 9,
   "metadata": {},
   "outputs": [
    {
     "name": "stdout",
     "output_type": "stream",
     "text": [
      "Rest cards: 21, Used cards: 0\n",
      "\n",
      "Nick: d, HP: 5, Max HP: 5, ID: 主公, State: 被杀, 4 Cards In Hand\n",
      "Nick: h, HP: 4, Max HP: 4, ID: 未知, State: 正常, 4 Cards In Hand\n",
      "Nick: f, HP: 4, Max HP: 4, ID: 未知, State: 正常, 4 Cards In Hand\n",
      "Nick: e, HP: 4, Max HP: 4, ID: 未知, State: 正常, 4 Cards In Hand\n",
      "Nick: c, HP: 4, Max HP: 4, ID: 未知, State: 正常, 4 Cards In Hand\n",
      "Nick: a, HP: 4, Max HP: 4, ID: 未知, State: 正常, 4 Cards In Hand\n",
      "Nick: b, HP: 4, Max HP: 4, ID: 未知, State: 正常, 4 Cards In Hand\n",
      "Nick: g, HP: 4, Max HP: 4, ID: 未知, State: 正常, 3 Cards In Hand\n"
     ]
    }
   ],
   "source": [
    "print(t.show())"
   ]
  },
  {
   "cell_type": "code",
   "execution_count": 10,
   "metadata": {},
   "outputs": [
    {
     "name": "stdout",
     "output_type": "stream",
     "text": [
      "♥10杀\n"
     ]
    }
   ],
   "source": [
    "print(t.show_desktop())"
   ]
  },
  {
   "cell_type": "code",
   "execution_count": null,
   "metadata": {
    "collapsed": true
   },
   "outputs": [],
   "source": []
  }
 ],
 "metadata": {
  "kernelspec": {
   "display_name": "Python 3",
   "language": "python",
   "name": "python3"
  },
  "language_info": {
   "codemirror_mode": {
    "name": "ipython",
    "version": 3
   },
   "file_extension": ".py",
   "mimetype": "text/x-python",
   "name": "python",
   "nbconvert_exporter": "python",
   "pygments_lexer": "ipython3",
   "version": "3.6.1"
  }
 },
 "nbformat": 4,
 "nbformat_minor": 2
}
